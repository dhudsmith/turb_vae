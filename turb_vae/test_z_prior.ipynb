{
 "cells": [
  {
   "cell_type": "code",
   "execution_count": 1,
   "metadata": {},
   "outputs": [
    {
     "name": "stderr",
     "output_type": "stream",
     "text": [
      "/home/hudson/code/spack/opt/spack/linux-ubuntu24.04-skylake_avx512/gcc-13.2.0/miniconda3-24.3.0-ree6kqamgcbjhoziwoelsymk7uzvnxju/envs/turb/lib/python3.11/site-packages/torch/utils/data/dataloader.py:558: UserWarning: This DataLoader will create 56 worker processes in total. Our suggested max number of worker in current system is 20, which is smaller than what this DataLoader is going to create. Please be aware that excessive worker creation might get DataLoader running slow or even freeze, lower the worker number to avoid potential slowness/freeze if necessary.\n",
      "  warnings.warn(_create_warning_msg(\n",
      "Using 16bit Automatic Mixed Precision (AMP)\n",
      "GPU available: True (cuda), used: True\n",
      "TPU available: False, using: 0 TPU cores\n",
      "IPU available: False, using: 0 IPUs\n",
      "HPU available: False, using: 0 HPUs\n",
      "/home/hudson/code/spack/opt/spack/linux-ubuntu24.04-skylake_avx512/gcc-13.2.0/miniconda3-24.3.0-ree6kqamgcbjhoziwoelsymk7uzvnxju/envs/turb/lib/python3.11/site-packages/pytorch_lightning/utilities/parsing.py:199: Attribute 'encoder' is an instance of `nn.Module` and is already saved during checkpointing. It is recommended to ignore them using `self.save_hyperparameters(ignore=['encoder'])`.\n",
      "/home/hudson/code/spack/opt/spack/linux-ubuntu24.04-skylake_avx512/gcc-13.2.0/miniconda3-24.3.0-ree6kqamgcbjhoziwoelsymk7uzvnxju/envs/turb/lib/python3.11/site-packages/pytorch_lightning/utilities/parsing.py:199: Attribute 'decoder' is an instance of `nn.Module` and is already saved during checkpointing. It is recommended to ignore them using `self.save_hyperparameters(ignore=['decoder'])`.\n"
     ]
    }
   ],
   "source": [
    "import numpy as np\n",
    "import torch\n",
    "import config\n",
    "\n",
    "from turb_vae.train2d import VAETrainer\n",
    "torch.set_grad_enabled(False)\n",
    "\n",
    "\n",
    "model = VAETrainer.load_from_checkpoint(\"../checkpoints/best_linear_upsample.ckpt\")\n",
    "encoder = model.vae.encoder\n",
    "data = config.TurbVaeConfig.test_dataset\n",
    "N1 = 1000\n",
    "dl = torch.utils.data.DataLoader(data, batch_size=N1, num_workers=15)"
   ]
  },
  {
   "cell_type": "code",
   "execution_count": 2,
   "metadata": {},
   "outputs": [],
   "source": [
    "batch = next(iter(dl))"
   ]
  },
  {
   "cell_type": "code",
   "execution_count": 8,
   "metadata": {},
   "outputs": [
    {
     "data": {
      "text/plain": [
       "torch.Size([1000000, 1024])"
      ]
     },
     "execution_count": 8,
     "metadata": {},
     "output_type": "execute_result"
    }
   ],
   "source": [
    "N2 = 1000\n",
    "n, L0 = batch\n",
    "mu_logvar = encoder(n.to('cuda'))\n",
    "mu = mu_logvar[:, :encoder.out_channels].view(-1, encoder.out_channels * 8 * 8)\n",
    "logvar = mu_logvar[:, encoder.out_channels:].view(-1, encoder.out_channels * 8 * 8)\n",
    "\n",
    "eps = torch.randn(N2, 1, 1).to(\"cuda\")\n",
    "\n",
    "z = mu + torch.exp(logvar / 2) * eps\n",
    "\n",
    "# combine N1 and N2 dimensions\n",
    "z = z.view(N1*N2, -1)\n",
    "z.shape"
   ]
  },
  {
   "cell_type": "code",
   "execution_count": 9,
   "metadata": {},
   "outputs": [
    {
     "data": {
      "text/plain": [
       "(tensor(-0.0328, device='cuda:0'), tensor(2.9006e-05, device='cuda:0'))"
      ]
     },
     "execution_count": 9,
     "metadata": {},
     "output_type": "execute_result"
    }
   ],
   "source": [
    "# mean stats\n",
    "mu_est = z.mean(axis=0, keepdim=True)\n",
    "mu_est.mean(), mu_est.std() / np.sqrt(N1*N2)"
   ]
  },
  {
   "cell_type": "code",
   "execution_count": 10,
   "metadata": {},
   "outputs": [
    {
     "data": {
      "text/plain": [
       "tensor([[-0.0434, -0.0451, -0.0440, -0.0449, -0.0453]])"
      ]
     },
     "execution_count": 10,
     "metadata": {},
     "output_type": "execute_result"
    }
   ],
   "source": [
    "mu_est[:,:5].cpu()"
   ]
  },
  {
   "cell_type": "code",
   "execution_count": 11,
   "metadata": {},
   "outputs": [
    {
     "data": {
      "text/plain": [
       "tensor([[1.0267, 1.0266, 1.0265, 1.0263, 1.0265],\n",
       "        [1.0266, 1.0266, 1.0265, 1.0263, 1.0265],\n",
       "        [1.0265, 1.0265, 1.0265, 1.0262, 1.0264],\n",
       "        [1.0263, 1.0263, 1.0262, 1.0261, 1.0262],\n",
       "        [1.0265, 1.0265, 1.0264, 1.0262, 1.0265]], device='cuda:0')"
      ]
     },
     "execution_count": 11,
     "metadata": {},
     "output_type": "execute_result"
    }
   ],
   "source": [
    "# covariance stats\n",
    "cov_est = torch.cov(z.T)\n",
    "cov_est[:5, :5]"
   ]
  },
  {
   "cell_type": "code",
   "execution_count": 12,
   "metadata": {},
   "outputs": [
    {
     "data": {
      "text/plain": [
       "(tensor([ 0.0080,  0.0004,  0.0036,  0.0028, -0.0001], device='cuda:0'),\n",
       " tensor([0.9991, 0.9980, 0.9985, 0.9979, 0.9983], device='cuda:0'))"
      ]
     },
     "execution_count": 12,
     "metadata": {},
     "output_type": "execute_result"
    }
   ],
   "source": [
    "mu[0,:5], torch.exp(logvar[0,:5]/2)"
   ]
  },
  {
   "cell_type": "code",
   "execution_count": null,
   "metadata": {},
   "outputs": [],
   "source": []
  },
  {
   "cell_type": "code",
   "execution_count": null,
   "metadata": {},
   "outputs": [],
   "source": []
  }
 ],
 "metadata": {
  "kernelspec": {
   "display_name": "turb",
   "language": "python",
   "name": "python3"
  },
  "language_info": {
   "codemirror_mode": {
    "name": "ipython",
    "version": 3
   },
   "file_extension": ".py",
   "mimetype": "text/x-python",
   "name": "python",
   "nbconvert_exporter": "python",
   "pygments_lexer": "ipython3",
   "version": "3.11.9"
  }
 },
 "nbformat": 4,
 "nbformat_minor": 2
}
