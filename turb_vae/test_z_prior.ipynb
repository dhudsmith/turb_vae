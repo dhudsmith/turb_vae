{
 "cells": [
  {
   "cell_type": "code",
   "execution_count": 1,
   "metadata": {},
   "outputs": [
    {
     "name": "stderr",
     "output_type": "stream",
     "text": [
      "/home/hudson/code/spack/opt/spack/linux-ubuntu24.04-skylake_avx512/gcc-13.2.0/miniconda3-24.3.0-ree6kqamgcbjhoziwoelsymk7uzvnxju/envs/turb/lib/python3.11/site-packages/torch/utils/data/dataloader.py:558: UserWarning: This DataLoader will create 56 worker processes in total. Our suggested max number of worker in current system is 20, which is smaller than what this DataLoader is going to create. Please be aware that excessive worker creation might get DataLoader running slow or even freeze, lower the worker number to avoid potential slowness/freeze if necessary.\n",
      "  warnings.warn(_create_warning_msg(\n",
      "Using 16bit Automatic Mixed Precision (AMP)\n",
      "GPU available: True (cuda), used: True\n",
      "TPU available: False, using: 0 TPU cores\n",
      "IPU available: False, using: 0 IPUs\n",
      "HPU available: False, using: 0 HPUs\n",
      "/home/hudson/code/spack/opt/spack/linux-ubuntu24.04-skylake_avx512/gcc-13.2.0/miniconda3-24.3.0-ree6kqamgcbjhoziwoelsymk7uzvnxju/envs/turb/lib/python3.11/site-packages/pytorch_lightning/utilities/parsing.py:199: Attribute 'encoder' is an instance of `nn.Module` and is already saved during checkpointing. It is recommended to ignore them using `self.save_hyperparameters(ignore=['encoder'])`.\n",
      "/home/hudson/code/spack/opt/spack/linux-ubuntu24.04-skylake_avx512/gcc-13.2.0/miniconda3-24.3.0-ree6kqamgcbjhoziwoelsymk7uzvnxju/envs/turb/lib/python3.11/site-packages/pytorch_lightning/utilities/parsing.py:199: Attribute 'decoder' is an instance of `nn.Module` and is already saved during checkpointing. It is recommended to ignore them using `self.save_hyperparameters(ignore=['decoder'])`.\n"
     ]
    }
   ],
   "source": [
    "import matplotlib.pyplot as plt\n",
    "import numpy as np\n",
    "import torch\n",
    "import config\n",
    "\n",
    "from turb_vae.train2d import VAETrainer\n",
    "torch.set_grad_enabled(False)\n",
    "\n",
    "\n",
    "model = VAETrainer.load_from_checkpoint(\"../checkpoints/vae.ckpt\")\n",
    "encoder = model.vae.encoder\n",
    "data = config.TurbVaeConfig.test_dataset\n",
    "N1 = 1000\n",
    "dl = torch.utils.data.DataLoader(data, batch_size=N1, num_workers=15)"
   ]
  },
  {
   "cell_type": "code",
   "execution_count": 2,
   "metadata": {},
   "outputs": [],
   "source": [
    "batch = next(iter(dl))"
   ]
  },
  {
   "cell_type": "code",
   "execution_count": 3,
   "metadata": {},
   "outputs": [
    {
     "data": {
      "text/plain": [
       "torch.Size([1000000, 1024])"
      ]
     },
     "execution_count": 3,
     "metadata": {},
     "output_type": "execute_result"
    }
   ],
   "source": [
    "N2 = 1000\n",
    "n, L0 = batch\n",
    "mu_logvar = encoder(n.to('cuda'))\n",
    "mu = mu_logvar[:, :encoder.out_channels].view(-1, encoder.out_channels * 8 * 8)\n",
    "logvar = mu_logvar[:, encoder.out_channels:].view(-1, encoder.out_channels * 8 * 8)\n",
    "\n",
    "eps = torch.randn(N2, 1, 1).to(\"cuda\")\n",
    "\n",
    "z = mu + torch.exp(logvar / 2) * eps\n",
    "\n",
    "# combine N1 and N2 dimensions\n",
    "z = z.view(N1*N2, -1)\n",
    "z.shape"
   ]
  },
  {
   "cell_type": "code",
   "execution_count": 7,
   "metadata": {},
   "outputs": [
    {
     "data": {
      "text/plain": [
       "(tensor(-0.0132, device='cuda:0'), tensor(2.7540e-05, device='cuda:0'))"
      ]
     },
     "execution_count": 7,
     "metadata": {},
     "output_type": "execute_result"
    }
   ],
   "source": [
    "# mean stats\n",
    "mu_est = z.mean(axis=0, keepdim=True)\n",
    "mu_est.mean(), mu_est.std() / np.sqrt(N1*N2)"
   ]
  },
  {
   "cell_type": "code",
   "execution_count": 10,
   "metadata": {},
   "outputs": [
    {
     "data": {
      "text/plain": [
       "tensor([[ 0.0047, -0.0056, -0.0086,  0.0556,  0.0121]])"
      ]
     },
     "execution_count": 10,
     "metadata": {},
     "output_type": "execute_result"
    }
   ],
   "source": [
    "mu_est[:,:5].cpu()"
   ]
  },
  {
   "cell_type": "code",
   "execution_count": 5,
   "metadata": {},
   "outputs": [
    {
     "data": {
      "text/plain": [
       "tensor([[1.1776, 0.4984, 0.2609, 0.1904, 0.2301],\n",
       "        [0.4984, 1.2404, 0.5112, 0.2450, 0.2054],\n",
       "        [0.2609, 0.5112, 1.0716, 0.3906, 0.2264],\n",
       "        [0.1904, 0.2450, 0.3906, 0.9960, 0.3839],\n",
       "        [0.2301, 0.2054, 0.2264, 0.3839, 0.9990]], device='cuda:0')"
      ]
     },
     "execution_count": 5,
     "metadata": {},
     "output_type": "execute_result"
    }
   ],
   "source": [
    "# covariance stats\n",
    "cov_est = torch.cov(z.T)\n",
    "cov_est[:5, :5]"
   ]
  }
 ],
 "metadata": {
  "kernelspec": {
   "display_name": "turb",
   "language": "python",
   "name": "python3"
  },
  "language_info": {
   "codemirror_mode": {
    "name": "ipython",
    "version": 3
   },
   "file_extension": ".py",
   "mimetype": "text/x-python",
   "name": "python",
   "nbconvert_exporter": "python",
   "pygments_lexer": "ipython3",
   "version": "3.11.9"
  }
 },
 "nbformat": 4,
 "nbformat_minor": 2
}
